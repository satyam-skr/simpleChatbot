{
  "nbformat": 4,
  "nbformat_minor": 0,
  "metadata": {
    "colab": {
      "provenance": []
    },
    "kernelspec": {
      "name": "python3",
      "display_name": "Python 3"
    },
    "language_info": {
      "name": "python"
    }
  },
  "cells": [
    {
      "cell_type": "markdown",
      "source": [
        "### Importing libraries"
      ],
      "metadata": {
        "id": "ETqBk4h7HuQt"
      }
    },
    {
      "cell_type": "code",
      "execution_count": 1,
      "metadata": {
        "id": "JWTkhT8dv2Tk"
      },
      "outputs": [],
      "source": [
        "import nltk #to work on nlp\n",
        "import re #to handle regular expression\n",
        "from nltk.chat.util import Chat, reflections  #help to define chatbot responses"
      ]
    },
    {
      "cell_type": "markdown",
      "source": [
        "### Downloading required data for text processing"
      ],
      "metadata": {
        "id": "7MjPxPr4yWE-"
      }
    },
    {
      "cell_type": "code",
      "source": [
        "nltk.download('punkt')\n",
        "nltk.download('averaged_perceptron_tagger')"
      ],
      "metadata": {
        "colab": {
          "base_uri": "https://localhost:8080/"
        },
        "id": "w0P_qE5zwL7C",
        "outputId": "d9b34a1a-db21-46e9-8fa6-f2671b5ce836"
      },
      "execution_count": 2,
      "outputs": [
        {
          "output_type": "stream",
          "name": "stderr",
          "text": [
            "[nltk_data] Downloading package punkt to /root/nltk_data...\n",
            "[nltk_data]   Package punkt is already up-to-date!\n",
            "[nltk_data] Downloading package averaged_perceptron_tagger to\n",
            "[nltk_data]     /root/nltk_data...\n",
            "[nltk_data]   Package averaged_perceptron_tagger is already up-to-\n",
            "[nltk_data]       date!\n"
          ]
        },
        {
          "output_type": "execute_result",
          "data": {
            "text/plain": [
              "True"
            ]
          },
          "metadata": {},
          "execution_count": 2
        }
      ]
    },
    {
      "cell_type": "markdown",
      "source": [
        "### Defining chatbot responses (rule based)"
      ],
      "metadata": {
        "id": "j5E8LJJ4ygos"
      }
    },
    {
      "cell_type": "code",
      "source": [
        "pairs = [\n",
        "    [r\"hi|hello|hey\", [\"Hello! How can I help you today?\", \"Hi there! How may I assist you?\"]],\n",
        "    [r\"my name is (.*)\", [\"Hello %1! How can I assist you today?\"]],\n",
        "    [r\"hi|hello|hey\", [\"Hello there!\", \"Hi! How can I assist you today?\", \"Hey! Good to see you.\"]],\n",
        "    [r\"good (morning|afternoon|evening)\", [\"Good %1! How can I help you?\"]],\n",
        "    [r\"what is your name\\?\", [\"I am ChatBot, your virtual assistant.\"]],\n",
        "    [r\"how are you\\?\", [\"I'm just a bot, but I'm functioning as expected. How are you?\"]],\n",
        "    [r\"i am (fine|good|okay|not bad)\", [\"Glad to hear that!\", \"That's great to know.\"]],\n",
        "    [r\"i am (sad|angry|upset|tired)\", [\"I'm sorry to hear that. Want to talk about it?\", \"I'm here for you.\"]],\n",
        "    [r\"what can you do\\?\", [\"I can chat with you, tell jokes, and try to answer your questions.\"]],\n",
        "    [r\"tell me a joke\", [\n",
        "        \"Why did the computer show up at work late? It had a hard drive!\",\n",
        "        \"Why don’t programmers like nature? Too many bugs!\"\n",
        "    ]],\n",
        "    [r\"who created you\\?\", [\"I was created by satyam!\"]],\n",
        "    [r\"what is the weather like\\?\", [\"I'm not connected to the internet right now, so I can't check.\"]],\n",
        "    [r\"(.*) (help|assist) (.*)\", [\"Sure! How can I assist you with %3?\"]],\n",
        "    [r\"(.*) your favorite (movie|color|food)\", [\"I don't have personal preferences, but I enjoy talking about anything you like!\"]],\n",
        "    [r\"bye|exit|quit\", [\"Goodbye! Take care!\", \"See you later!\", \"It was nice chatting with you!\"]],\n",
        "    [r\"(.*)\", [\"I'm not sure I understand. Could you say that differently?\", \"Interesting... Can you tell me more?\"]]\n",
        "\n",
        "]"
      ],
      "metadata": {
        "id": "HTSRIT89whEj"
      },
      "execution_count": 3,
      "outputs": []
    },
    {
      "cell_type": "markdown",
      "source": [
        "### Defining class"
      ],
      "metadata": {
        "id": "YcqKxIU7HzNW"
      }
    },
    {
      "cell_type": "code",
      "source": [
        "class RuleBasedChatbot:\n",
        "  def __init__(self,pairs):\n",
        "    self.chat = Chat(pairs,reflections)\n",
        "\n",
        "  def respond(self, user_input):\n",
        "    return self.chat.respond(user_input)"
      ],
      "metadata": {
        "id": "v9ScpaH2wca5"
      },
      "execution_count": 4,
      "outputs": []
    },
    {
      "cell_type": "markdown",
      "source": [
        "### Chatting function"
      ],
      "metadata": {
        "id": "6jTLiSJhH1dF"
      }
    },
    {
      "cell_type": "code",
      "source": [
        "def chat_with_bot():\n",
        "  print(\"Hello! I'm your friendly chatbot. Type 'bye' to exit.\")\n",
        "  while True:\n",
        "    user_input = input(\"You: \")\n",
        "    if user_input.lower() == 'bye':\n",
        "      print(\"Chatbot: Goodbye!\")\n",
        "      break\n",
        "    response = chatbot.respond(user_input)\n",
        "    print(\"Chatbot:\", response)"
      ],
      "metadata": {
        "id": "5sxua1qNxUmz"
      },
      "execution_count": 5,
      "outputs": []
    },
    {
      "cell_type": "markdown",
      "source": [
        "### Start conversation"
      ],
      "metadata": {
        "id": "4i-0VXhJH5oO"
      }
    },
    {
      "cell_type": "code",
      "source": [
        "chatbot = RuleBasedChatbot(pairs)\n",
        "chat_with_bot()"
      ],
      "metadata": {
        "colab": {
          "base_uri": "https://localhost:8080/"
        },
        "id": "aqty1bn_xj88",
        "outputId": "6176d11c-5e64-4b9f-c38c-ef089c2d36e8"
      },
      "execution_count": 6,
      "outputs": [
        {
          "output_type": "stream",
          "name": "stdout",
          "text": [
            "Hello! I'm your friendly chatbot. Type 'bye' to exit.\n",
            "You: hi\n",
            "Chatbot: Hello! How can I help you today?\n",
            "You: how are you\n",
            "Chatbot: Interesting... Can you tell me more?\n",
            "You: my name is satyam\n",
            "Chatbot: Hello satyam! How can I assist you today?\n",
            "You: what is your name?\n",
            "Chatbot: I am ChatBot, your virtual assistant.\n",
            "You: who created you?\n",
            "Chatbot: I was created by satyam!\n",
            "You: i am tired\n",
            "Chatbot: I'm here for you.\n",
            "You: what can you do?\n",
            "Chatbot: I can chat with you, tell jokes, and try to answer your questions.\n",
            "You: tell me a joke\n",
            "Chatbot: Why did the computer show up at work late? It had a hard drive!\n",
            "You: haha\n",
            "Chatbot: Interesting... Can you tell me more?\n",
            "You: what is your favorite food?\n",
            "Chatbot: I don't have personal preferences, but I enjoy talking about anything you like!\n",
            "You: ok, bye\n",
            "Chatbot: I'm not sure I understand. Could you say that differently?\n",
            "You: bye\n",
            "Chatbot: Goodbye!\n"
          ]
        }
      ]
    }
  ]
}